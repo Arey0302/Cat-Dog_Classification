{
  "nbformat": 4,
  "nbformat_minor": 0,
  "metadata": {
    "colab": {
      "provenance": [],
      "gpuType": "T4"
    },
    "kernelspec": {
      "name": "python3",
      "display_name": "Python 3"
    },
    "language_info": {
      "name": "python"
    },
    "accelerator": "GPU",
    "widgets": {
      "application/vnd.jupyter.widget-state+json": {
        "e12e349e1e7f4d1eb4bb10c8f65ca068": {
          "model_module": "@jupyter-widgets/controls",
          "model_name": "HBoxModel",
          "model_module_version": "1.5.0",
          "state": {
            "_dom_classes": [],
            "_model_module": "@jupyter-widgets/controls",
            "_model_module_version": "1.5.0",
            "_model_name": "HBoxModel",
            "_view_count": null,
            "_view_module": "@jupyter-widgets/controls",
            "_view_module_version": "1.5.0",
            "_view_name": "HBoxView",
            "box_style": "",
            "children": [
              "IPY_MODEL_b91ae8367b894c02b66111dd7ecd6c18",
              "IPY_MODEL_19f6323651ef4450ae772eb152d8ae4b",
              "IPY_MODEL_a25c80df636a43f7a2506d8030a5af49"
            ],
            "layout": "IPY_MODEL_24907e0705324dc9b8fbfac4fe6ca001"
          }
        },
        "b91ae8367b894c02b66111dd7ecd6c18": {
          "model_module": "@jupyter-widgets/controls",
          "model_name": "HTMLModel",
          "model_module_version": "1.5.0",
          "state": {
            "_dom_classes": [],
            "_model_module": "@jupyter-widgets/controls",
            "_model_module_version": "1.5.0",
            "_model_name": "HTMLModel",
            "_view_count": null,
            "_view_module": "@jupyter-widgets/controls",
            "_view_module_version": "1.5.0",
            "_view_name": "HTMLView",
            "description": "",
            "description_tooltip": null,
            "layout": "IPY_MODEL_a82b7539111645d1be2841f6636c4da1",
            "placeholder": "​",
            "style": "IPY_MODEL_1e1358152a5841e2b9f287e21dc79b12",
            "value": "Downloading readme: 100%"
          }
        },
        "19f6323651ef4450ae772eb152d8ae4b": {
          "model_module": "@jupyter-widgets/controls",
          "model_name": "FloatProgressModel",
          "model_module_version": "1.5.0",
          "state": {
            "_dom_classes": [],
            "_model_module": "@jupyter-widgets/controls",
            "_model_module_version": "1.5.0",
            "_model_name": "FloatProgressModel",
            "_view_count": null,
            "_view_module": "@jupyter-widgets/controls",
            "_view_module_version": "1.5.0",
            "_view_name": "ProgressView",
            "bar_style": "success",
            "description": "",
            "description_tooltip": null,
            "layout": "IPY_MODEL_6c0dd9c8111948fdb785f972d134ca45",
            "max": 8161,
            "min": 0,
            "orientation": "horizontal",
            "style": "IPY_MODEL_0530dde876114aa5a7d8bfdff1e230ee",
            "value": 8161
          }
        },
        "a25c80df636a43f7a2506d8030a5af49": {
          "model_module": "@jupyter-widgets/controls",
          "model_name": "HTMLModel",
          "model_module_version": "1.5.0",
          "state": {
            "_dom_classes": [],
            "_model_module": "@jupyter-widgets/controls",
            "_model_module_version": "1.5.0",
            "_model_name": "HTMLModel",
            "_view_count": null,
            "_view_module": "@jupyter-widgets/controls",
            "_view_module_version": "1.5.0",
            "_view_name": "HTMLView",
            "description": "",
            "description_tooltip": null,
            "layout": "IPY_MODEL_a09d1e02dcc847dfbce4f1fd9740a766",
            "placeholder": "​",
            "style": "IPY_MODEL_bfc4e778c150466a88707f8529b851b0",
            "value": " 8.16k/8.16k [00:00&lt;00:00, 258kB/s]"
          }
        },
        "24907e0705324dc9b8fbfac4fe6ca001": {
          "model_module": "@jupyter-widgets/base",
          "model_name": "LayoutModel",
          "model_module_version": "1.2.0",
          "state": {
            "_model_module": "@jupyter-widgets/base",
            "_model_module_version": "1.2.0",
            "_model_name": "LayoutModel",
            "_view_count": null,
            "_view_module": "@jupyter-widgets/base",
            "_view_module_version": "1.2.0",
            "_view_name": "LayoutView",
            "align_content": null,
            "align_items": null,
            "align_self": null,
            "border": null,
            "bottom": null,
            "display": null,
            "flex": null,
            "flex_flow": null,
            "grid_area": null,
            "grid_auto_columns": null,
            "grid_auto_flow": null,
            "grid_auto_rows": null,
            "grid_column": null,
            "grid_gap": null,
            "grid_row": null,
            "grid_template_areas": null,
            "grid_template_columns": null,
            "grid_template_rows": null,
            "height": null,
            "justify_content": null,
            "justify_items": null,
            "left": null,
            "margin": null,
            "max_height": null,
            "max_width": null,
            "min_height": null,
            "min_width": null,
            "object_fit": null,
            "object_position": null,
            "order": null,
            "overflow": null,
            "overflow_x": null,
            "overflow_y": null,
            "padding": null,
            "right": null,
            "top": null,
            "visibility": null,
            "width": null
          }
        },
        "a82b7539111645d1be2841f6636c4da1": {
          "model_module": "@jupyter-widgets/base",
          "model_name": "LayoutModel",
          "model_module_version": "1.2.0",
          "state": {
            "_model_module": "@jupyter-widgets/base",
            "_model_module_version": "1.2.0",
            "_model_name": "LayoutModel",
            "_view_count": null,
            "_view_module": "@jupyter-widgets/base",
            "_view_module_version": "1.2.0",
            "_view_name": "LayoutView",
            "align_content": null,
            "align_items": null,
            "align_self": null,
            "border": null,
            "bottom": null,
            "display": null,
            "flex": null,
            "flex_flow": null,
            "grid_area": null,
            "grid_auto_columns": null,
            "grid_auto_flow": null,
            "grid_auto_rows": null,
            "grid_column": null,
            "grid_gap": null,
            "grid_row": null,
            "grid_template_areas": null,
            "grid_template_columns": null,
            "grid_template_rows": null,
            "height": null,
            "justify_content": null,
            "justify_items": null,
            "left": null,
            "margin": null,
            "max_height": null,
            "max_width": null,
            "min_height": null,
            "min_width": null,
            "object_fit": null,
            "object_position": null,
            "order": null,
            "overflow": null,
            "overflow_x": null,
            "overflow_y": null,
            "padding": null,
            "right": null,
            "top": null,
            "visibility": null,
            "width": null
          }
        },
        "1e1358152a5841e2b9f287e21dc79b12": {
          "model_module": "@jupyter-widgets/controls",
          "model_name": "DescriptionStyleModel",
          "model_module_version": "1.5.0",
          "state": {
            "_model_module": "@jupyter-widgets/controls",
            "_model_module_version": "1.5.0",
            "_model_name": "DescriptionStyleModel",
            "_view_count": null,
            "_view_module": "@jupyter-widgets/base",
            "_view_module_version": "1.2.0",
            "_view_name": "StyleView",
            "description_width": ""
          }
        },
        "6c0dd9c8111948fdb785f972d134ca45": {
          "model_module": "@jupyter-widgets/base",
          "model_name": "LayoutModel",
          "model_module_version": "1.2.0",
          "state": {
            "_model_module": "@jupyter-widgets/base",
            "_model_module_version": "1.2.0",
            "_model_name": "LayoutModel",
            "_view_count": null,
            "_view_module": "@jupyter-widgets/base",
            "_view_module_version": "1.2.0",
            "_view_name": "LayoutView",
            "align_content": null,
            "align_items": null,
            "align_self": null,
            "border": null,
            "bottom": null,
            "display": null,
            "flex": null,
            "flex_flow": null,
            "grid_area": null,
            "grid_auto_columns": null,
            "grid_auto_flow": null,
            "grid_auto_rows": null,
            "grid_column": null,
            "grid_gap": null,
            "grid_row": null,
            "grid_template_areas": null,
            "grid_template_columns": null,
            "grid_template_rows": null,
            "height": null,
            "justify_content": null,
            "justify_items": null,
            "left": null,
            "margin": null,
            "max_height": null,
            "max_width": null,
            "min_height": null,
            "min_width": null,
            "object_fit": null,
            "object_position": null,
            "order": null,
            "overflow": null,
            "overflow_x": null,
            "overflow_y": null,
            "padding": null,
            "right": null,
            "top": null,
            "visibility": null,
            "width": null
          }
        },
        "0530dde876114aa5a7d8bfdff1e230ee": {
          "model_module": "@jupyter-widgets/controls",
          "model_name": "ProgressStyleModel",
          "model_module_version": "1.5.0",
          "state": {
            "_model_module": "@jupyter-widgets/controls",
            "_model_module_version": "1.5.0",
            "_model_name": "ProgressStyleModel",
            "_view_count": null,
            "_view_module": "@jupyter-widgets/base",
            "_view_module_version": "1.2.0",
            "_view_name": "StyleView",
            "bar_color": null,
            "description_width": ""
          }
        },
        "a09d1e02dcc847dfbce4f1fd9740a766": {
          "model_module": "@jupyter-widgets/base",
          "model_name": "LayoutModel",
          "model_module_version": "1.2.0",
          "state": {
            "_model_module": "@jupyter-widgets/base",
            "_model_module_version": "1.2.0",
            "_model_name": "LayoutModel",
            "_view_count": null,
            "_view_module": "@jupyter-widgets/base",
            "_view_module_version": "1.2.0",
            "_view_name": "LayoutView",
            "align_content": null,
            "align_items": null,
            "align_self": null,
            "border": null,
            "bottom": null,
            "display": null,
            "flex": null,
            "flex_flow": null,
            "grid_area": null,
            "grid_auto_columns": null,
            "grid_auto_flow": null,
            "grid_auto_rows": null,
            "grid_column": null,
            "grid_gap": null,
            "grid_row": null,
            "grid_template_areas": null,
            "grid_template_columns": null,
            "grid_template_rows": null,
            "height": null,
            "justify_content": null,
            "justify_items": null,
            "left": null,
            "margin": null,
            "max_height": null,
            "max_width": null,
            "min_height": null,
            "min_width": null,
            "object_fit": null,
            "object_position": null,
            "order": null,
            "overflow": null,
            "overflow_x": null,
            "overflow_y": null,
            "padding": null,
            "right": null,
            "top": null,
            "visibility": null,
            "width": null
          }
        },
        "bfc4e778c150466a88707f8529b851b0": {
          "model_module": "@jupyter-widgets/controls",
          "model_name": "DescriptionStyleModel",
          "model_module_version": "1.5.0",
          "state": {
            "_model_module": "@jupyter-widgets/controls",
            "_model_module_version": "1.5.0",
            "_model_name": "DescriptionStyleModel",
            "_view_count": null,
            "_view_module": "@jupyter-widgets/base",
            "_view_module_version": "1.2.0",
            "_view_name": "StyleView",
            "description_width": ""
          }
        },
        "3aff2df96c604aff9c53e3f21888b839": {
          "model_module": "@jupyter-widgets/controls",
          "model_name": "HBoxModel",
          "model_module_version": "1.5.0",
          "state": {
            "_dom_classes": [],
            "_model_module": "@jupyter-widgets/controls",
            "_model_module_version": "1.5.0",
            "_model_name": "HBoxModel",
            "_view_count": null,
            "_view_module": "@jupyter-widgets/controls",
            "_view_module_version": "1.5.0",
            "_view_name": "HBoxView",
            "box_style": "",
            "children": [
              "IPY_MODEL_8a5ba84c54734653a0218a4242153482",
              "IPY_MODEL_5c716eb0c2e34b7a870e4514f26c2d21",
              "IPY_MODEL_449fea6b22db44b2b2adfb2f41fa372f"
            ],
            "layout": "IPY_MODEL_b2ddc1a32c194728badae50f93d7bb3b"
          }
        },
        "8a5ba84c54734653a0218a4242153482": {
          "model_module": "@jupyter-widgets/controls",
          "model_name": "HTMLModel",
          "model_module_version": "1.5.0",
          "state": {
            "_dom_classes": [],
            "_model_module": "@jupyter-widgets/controls",
            "_model_module_version": "1.5.0",
            "_model_name": "HTMLModel",
            "_view_count": null,
            "_view_module": "@jupyter-widgets/controls",
            "_view_module_version": "1.5.0",
            "_view_name": "HTMLView",
            "description": "",
            "description_tooltip": null,
            "layout": "IPY_MODEL_60649251d66d4ed09f4aa7a55b64b4e1",
            "placeholder": "​",
            "style": "IPY_MODEL_b1e331154bbf49ee81c0e92ce4817d9c",
            "value": "Generating train split: 100%"
          }
        },
        "5c716eb0c2e34b7a870e4514f26c2d21": {
          "model_module": "@jupyter-widgets/controls",
          "model_name": "FloatProgressModel",
          "model_module_version": "1.5.0",
          "state": {
            "_dom_classes": [],
            "_model_module": "@jupyter-widgets/controls",
            "_model_module_version": "1.5.0",
            "_model_name": "FloatProgressModel",
            "_view_count": null,
            "_view_module": "@jupyter-widgets/controls",
            "_view_module_version": "1.5.0",
            "_view_name": "ProgressView",
            "bar_style": "success",
            "description": "",
            "description_tooltip": null,
            "layout": "IPY_MODEL_9eb35dfd8e484eb19c52587a1e12350e",
            "max": 23410,
            "min": 0,
            "orientation": "horizontal",
            "style": "IPY_MODEL_9364791ed52c4284b186181c2089f4ae",
            "value": 23410
          }
        },
        "449fea6b22db44b2b2adfb2f41fa372f": {
          "model_module": "@jupyter-widgets/controls",
          "model_name": "HTMLModel",
          "model_module_version": "1.5.0",
          "state": {
            "_dom_classes": [],
            "_model_module": "@jupyter-widgets/controls",
            "_model_module_version": "1.5.0",
            "_model_name": "HTMLModel",
            "_view_count": null,
            "_view_module": "@jupyter-widgets/controls",
            "_view_module_version": "1.5.0",
            "_view_name": "HTMLView",
            "description": "",
            "description_tooltip": null,
            "layout": "IPY_MODEL_177dcf111031424e953fa80b47574d63",
            "placeholder": "​",
            "style": "IPY_MODEL_d5ca766d29a44777a68e695c94aa364a",
            "value": " 23410/23410 [00:03&lt;00:00, 9540.53 examples/s]"
          }
        },
        "b2ddc1a32c194728badae50f93d7bb3b": {
          "model_module": "@jupyter-widgets/base",
          "model_name": "LayoutModel",
          "model_module_version": "1.2.0",
          "state": {
            "_model_module": "@jupyter-widgets/base",
            "_model_module_version": "1.2.0",
            "_model_name": "LayoutModel",
            "_view_count": null,
            "_view_module": "@jupyter-widgets/base",
            "_view_module_version": "1.2.0",
            "_view_name": "LayoutView",
            "align_content": null,
            "align_items": null,
            "align_self": null,
            "border": null,
            "bottom": null,
            "display": null,
            "flex": null,
            "flex_flow": null,
            "grid_area": null,
            "grid_auto_columns": null,
            "grid_auto_flow": null,
            "grid_auto_rows": null,
            "grid_column": null,
            "grid_gap": null,
            "grid_row": null,
            "grid_template_areas": null,
            "grid_template_columns": null,
            "grid_template_rows": null,
            "height": null,
            "justify_content": null,
            "justify_items": null,
            "left": null,
            "margin": null,
            "max_height": null,
            "max_width": null,
            "min_height": null,
            "min_width": null,
            "object_fit": null,
            "object_position": null,
            "order": null,
            "overflow": null,
            "overflow_x": null,
            "overflow_y": null,
            "padding": null,
            "right": null,
            "top": null,
            "visibility": null,
            "width": null
          }
        },
        "60649251d66d4ed09f4aa7a55b64b4e1": {
          "model_module": "@jupyter-widgets/base",
          "model_name": "LayoutModel",
          "model_module_version": "1.2.0",
          "state": {
            "_model_module": "@jupyter-widgets/base",
            "_model_module_version": "1.2.0",
            "_model_name": "LayoutModel",
            "_view_count": null,
            "_view_module": "@jupyter-widgets/base",
            "_view_module_version": "1.2.0",
            "_view_name": "LayoutView",
            "align_content": null,
            "align_items": null,
            "align_self": null,
            "border": null,
            "bottom": null,
            "display": null,
            "flex": null,
            "flex_flow": null,
            "grid_area": null,
            "grid_auto_columns": null,
            "grid_auto_flow": null,
            "grid_auto_rows": null,
            "grid_column": null,
            "grid_gap": null,
            "grid_row": null,
            "grid_template_areas": null,
            "grid_template_columns": null,
            "grid_template_rows": null,
            "height": null,
            "justify_content": null,
            "justify_items": null,
            "left": null,
            "margin": null,
            "max_height": null,
            "max_width": null,
            "min_height": null,
            "min_width": null,
            "object_fit": null,
            "object_position": null,
            "order": null,
            "overflow": null,
            "overflow_x": null,
            "overflow_y": null,
            "padding": null,
            "right": null,
            "top": null,
            "visibility": null,
            "width": null
          }
        },
        "b1e331154bbf49ee81c0e92ce4817d9c": {
          "model_module": "@jupyter-widgets/controls",
          "model_name": "DescriptionStyleModel",
          "model_module_version": "1.5.0",
          "state": {
            "_model_module": "@jupyter-widgets/controls",
            "_model_module_version": "1.5.0",
            "_model_name": "DescriptionStyleModel",
            "_view_count": null,
            "_view_module": "@jupyter-widgets/base",
            "_view_module_version": "1.2.0",
            "_view_name": "StyleView",
            "description_width": ""
          }
        },
        "9eb35dfd8e484eb19c52587a1e12350e": {
          "model_module": "@jupyter-widgets/base",
          "model_name": "LayoutModel",
          "model_module_version": "1.2.0",
          "state": {
            "_model_module": "@jupyter-widgets/base",
            "_model_module_version": "1.2.0",
            "_model_name": "LayoutModel",
            "_view_count": null,
            "_view_module": "@jupyter-widgets/base",
            "_view_module_version": "1.2.0",
            "_view_name": "LayoutView",
            "align_content": null,
            "align_items": null,
            "align_self": null,
            "border": null,
            "bottom": null,
            "display": null,
            "flex": null,
            "flex_flow": null,
            "grid_area": null,
            "grid_auto_columns": null,
            "grid_auto_flow": null,
            "grid_auto_rows": null,
            "grid_column": null,
            "grid_gap": null,
            "grid_row": null,
            "grid_template_areas": null,
            "grid_template_columns": null,
            "grid_template_rows": null,
            "height": null,
            "justify_content": null,
            "justify_items": null,
            "left": null,
            "margin": null,
            "max_height": null,
            "max_width": null,
            "min_height": null,
            "min_width": null,
            "object_fit": null,
            "object_position": null,
            "order": null,
            "overflow": null,
            "overflow_x": null,
            "overflow_y": null,
            "padding": null,
            "right": null,
            "top": null,
            "visibility": null,
            "width": null
          }
        },
        "9364791ed52c4284b186181c2089f4ae": {
          "model_module": "@jupyter-widgets/controls",
          "model_name": "ProgressStyleModel",
          "model_module_version": "1.5.0",
          "state": {
            "_model_module": "@jupyter-widgets/controls",
            "_model_module_version": "1.5.0",
            "_model_name": "ProgressStyleModel",
            "_view_count": null,
            "_view_module": "@jupyter-widgets/base",
            "_view_module_version": "1.2.0",
            "_view_name": "StyleView",
            "bar_color": null,
            "description_width": ""
          }
        },
        "177dcf111031424e953fa80b47574d63": {
          "model_module": "@jupyter-widgets/base",
          "model_name": "LayoutModel",
          "model_module_version": "1.2.0",
          "state": {
            "_model_module": "@jupyter-widgets/base",
            "_model_module_version": "1.2.0",
            "_model_name": "LayoutModel",
            "_view_count": null,
            "_view_module": "@jupyter-widgets/base",
            "_view_module_version": "1.2.0",
            "_view_name": "LayoutView",
            "align_content": null,
            "align_items": null,
            "align_self": null,
            "border": null,
            "bottom": null,
            "display": null,
            "flex": null,
            "flex_flow": null,
            "grid_area": null,
            "grid_auto_columns": null,
            "grid_auto_flow": null,
            "grid_auto_rows": null,
            "grid_column": null,
            "grid_gap": null,
            "grid_row": null,
            "grid_template_areas": null,
            "grid_template_columns": null,
            "grid_template_rows": null,
            "height": null,
            "justify_content": null,
            "justify_items": null,
            "left": null,
            "margin": null,
            "max_height": null,
            "max_width": null,
            "min_height": null,
            "min_width": null,
            "object_fit": null,
            "object_position": null,
            "order": null,
            "overflow": null,
            "overflow_x": null,
            "overflow_y": null,
            "padding": null,
            "right": null,
            "top": null,
            "visibility": null,
            "width": null
          }
        },
        "d5ca766d29a44777a68e695c94aa364a": {
          "model_module": "@jupyter-widgets/controls",
          "model_name": "DescriptionStyleModel",
          "model_module_version": "1.5.0",
          "state": {
            "_model_module": "@jupyter-widgets/controls",
            "_model_module_version": "1.5.0",
            "_model_name": "DescriptionStyleModel",
            "_view_count": null,
            "_view_module": "@jupyter-widgets/base",
            "_view_module_version": "1.2.0",
            "_view_name": "StyleView",
            "description_width": ""
          }
        }
      }
    }
  },
  "cells": [
    {
      "cell_type": "code",
      "execution_count": 1,
      "metadata": {
        "colab": {
          "base_uri": "https://localhost:8080/"
        },
        "id": "bS1tB_yEYPtE",
        "outputId": "12a62ece-610d-4e48-8601-c6d0bf276088"
      },
      "outputs": [
        {
          "output_type": "stream",
          "name": "stdout",
          "text": [
            "\u001b[?25l   \u001b[90m━━━━━━━━━━━━━━━━━━━━━━━━━━━━━━━━━━━━━━━━\u001b[0m \u001b[32m0.0/510.5 kB\u001b[0m \u001b[31m?\u001b[0m eta \u001b[36m-:--:--\u001b[0m\r\u001b[2K   \u001b[90m━━━━━━━━━━━━━━━━━━━━━━━━━━━━━━━━━━━━━━━━\u001b[0m \u001b[32m510.5/510.5 kB\u001b[0m \u001b[31m15.5 MB/s\u001b[0m eta \u001b[36m0:00:00\u001b[0m\n",
            "\u001b[2K   \u001b[90m━━━━━━━━━━━━━━━━━━━━━━━━━━━━━━━━━━━━━━━━\u001b[0m \u001b[32m116.3/116.3 kB\u001b[0m \u001b[31m5.5 MB/s\u001b[0m eta \u001b[36m0:00:00\u001b[0m\n",
            "\u001b[2K   \u001b[90m━━━━━━━━━━━━━━━━━━━━━━━━━━━━━━━━━━━━━━━━\u001b[0m \u001b[32m170.9/170.9 kB\u001b[0m \u001b[31m2.3 MB/s\u001b[0m eta \u001b[36m0:00:00\u001b[0m\n",
            "\u001b[2K   \u001b[90m━━━━━━━━━━━━━━━━━━━━━━━━━━━━━━━━━━━━━━━━\u001b[0m \u001b[32m143.5/143.5 kB\u001b[0m \u001b[31m5.5 MB/s\u001b[0m eta \u001b[36m0:00:00\u001b[0m\n",
            "\u001b[2K   \u001b[90m━━━━━━━━━━━━━━━━━━━━━━━━━━━━━━━━━━━━━━━━\u001b[0m \u001b[32m194.8/194.8 kB\u001b[0m \u001b[31m13.7 MB/s\u001b[0m eta \u001b[36m0:00:00\u001b[0m\n",
            "\u001b[?25h\u001b[31mERROR: pip's dependency resolver does not currently take into account all the packages that are installed. This behaviour is the source of the following dependency conflicts.\n",
            "torch 2.5.1+cu124 requires nvidia-cublas-cu12==12.4.5.8; platform_system == \"Linux\" and platform_machine == \"x86_64\", but you have nvidia-cublas-cu12 12.5.3.2 which is incompatible.\n",
            "torch 2.5.1+cu124 requires nvidia-cuda-cupti-cu12==12.4.127; platform_system == \"Linux\" and platform_machine == \"x86_64\", but you have nvidia-cuda-cupti-cu12 12.5.82 which is incompatible.\n",
            "torch 2.5.1+cu124 requires nvidia-cuda-nvrtc-cu12==12.4.127; platform_system == \"Linux\" and platform_machine == \"x86_64\", but you have nvidia-cuda-nvrtc-cu12 12.5.82 which is incompatible.\n",
            "torch 2.5.1+cu124 requires nvidia-cuda-runtime-cu12==12.4.127; platform_system == \"Linux\" and platform_machine == \"x86_64\", but you have nvidia-cuda-runtime-cu12 12.5.82 which is incompatible.\n",
            "torch 2.5.1+cu124 requires nvidia-cudnn-cu12==9.1.0.70; platform_system == \"Linux\" and platform_machine == \"x86_64\", but you have nvidia-cudnn-cu12 9.3.0.75 which is incompatible.\n",
            "torch 2.5.1+cu124 requires nvidia-cufft-cu12==11.2.1.3; platform_system == \"Linux\" and platform_machine == \"x86_64\", but you have nvidia-cufft-cu12 11.2.3.61 which is incompatible.\n",
            "torch 2.5.1+cu124 requires nvidia-curand-cu12==10.3.5.147; platform_system == \"Linux\" and platform_machine == \"x86_64\", but you have nvidia-curand-cu12 10.3.6.82 which is incompatible.\n",
            "torch 2.5.1+cu124 requires nvidia-cusolver-cu12==11.6.1.9; platform_system == \"Linux\" and platform_machine == \"x86_64\", but you have nvidia-cusolver-cu12 11.6.3.83 which is incompatible.\n",
            "torch 2.5.1+cu124 requires nvidia-cusparse-cu12==12.3.1.170; platform_system == \"Linux\" and platform_machine == \"x86_64\", but you have nvidia-cusparse-cu12 12.5.1.3 which is incompatible.\n",
            "torch 2.5.1+cu124 requires nvidia-nvjitlink-cu12==12.4.127; platform_system == \"Linux\" and platform_machine == \"x86_64\", but you have nvidia-nvjitlink-cu12 12.5.82 which is incompatible.\n",
            "gcsfs 2024.10.0 requires fsspec==2024.10.0, but you have fsspec 2024.2.0 which is incompatible.\u001b[0m\u001b[31m\n",
            "\u001b[0m"
          ]
        }
      ],
      "source": [
        "# pip install\n",
        "!pip install datasets==2.18.0 -q"
      ]
    },
    {
      "cell_type": "code",
      "source": [
        "# import library\n",
        "import torch\n",
        "import torch .nn as nn\n",
        "\n",
        "from PIL import Image\n",
        "from datasets import load_dataset\n",
        "from torch.utils.data import Dataset , DataLoader\n",
        "from torchvision.models import resnet18\n",
        "from torchvision import transforms"
      ],
      "metadata": {
        "id": "gtj9-g80YVi9"
      },
      "execution_count": 2,
      "outputs": []
    },
    {
      "cell_type": "code",
      "source": [
        "# Load dataset\n",
        "DATASET_NAME = 'cats_vs_dogs'\n",
        "datasets = load_dataset (DATASET_NAME)\n",
        "datasets"
      ],
      "metadata": {
        "colab": {
          "base_uri": "https://localhost:8080/",
          "height": 356,
          "referenced_widgets": [
            "e12e349e1e7f4d1eb4bb10c8f65ca068",
            "b91ae8367b894c02b66111dd7ecd6c18",
            "19f6323651ef4450ae772eb152d8ae4b",
            "a25c80df636a43f7a2506d8030a5af49",
            "24907e0705324dc9b8fbfac4fe6ca001",
            "a82b7539111645d1be2841f6636c4da1",
            "1e1358152a5841e2b9f287e21dc79b12",
            "6c0dd9c8111948fdb785f972d134ca45",
            "0530dde876114aa5a7d8bfdff1e230ee",
            "a09d1e02dcc847dfbce4f1fd9740a766",
            "bfc4e778c150466a88707f8529b851b0",
            "3aff2df96c604aff9c53e3f21888b839",
            "8a5ba84c54734653a0218a4242153482",
            "5c716eb0c2e34b7a870e4514f26c2d21",
            "449fea6b22db44b2b2adfb2f41fa372f",
            "b2ddc1a32c194728badae50f93d7bb3b",
            "60649251d66d4ed09f4aa7a55b64b4e1",
            "b1e331154bbf49ee81c0e92ce4817d9c",
            "9eb35dfd8e484eb19c52587a1e12350e",
            "9364791ed52c4284b186181c2089f4ae",
            "177dcf111031424e953fa80b47574d63",
            "d5ca766d29a44777a68e695c94aa364a"
          ]
        },
        "id": "f86Iuf7jYZjz",
        "outputId": "1defa034-0fe5-4aff-cd01-d89baf86fb67"
      },
      "execution_count": 3,
      "outputs": [
        {
          "output_type": "stream",
          "name": "stderr",
          "text": [
            "/usr/local/lib/python3.11/dist-packages/huggingface_hub/utils/_auth.py:94: UserWarning: \n",
            "The secret `HF_TOKEN` does not exist in your Colab secrets.\n",
            "To authenticate with the Hugging Face Hub, create a token in your settings tab (https://huggingface.co/settings/tokens), set it as secret in your Google Colab and restart your session.\n",
            "You will be able to reuse this secret in all of your notebooks.\n",
            "Please note that authentication is recommended but still optional to access public models or datasets.\n",
            "  warnings.warn(\n"
          ]
        },
        {
          "output_type": "display_data",
          "data": {
            "text/plain": [
              "Downloading readme:   0%|          | 0.00/8.16k [00:00<?, ?B/s]"
            ],
            "application/vnd.jupyter.widget-view+json": {
              "version_major": 2,
              "version_minor": 0,
              "model_id": "e12e349e1e7f4d1eb4bb10c8f65ca068"
            }
          },
          "metadata": {}
        },
        {
          "output_type": "stream",
          "name": "stderr",
          "text": [
            "Downloading data: 100%|██████████| 330M/330M [00:04<00:00, 78.5MB/s]\n",
            "Downloading data: 100%|██████████| 391M/391M [00:04<00:00, 89.4MB/s]\n"
          ]
        },
        {
          "output_type": "display_data",
          "data": {
            "text/plain": [
              "Generating train split:   0%|          | 0/23410 [00:00<?, ? examples/s]"
            ],
            "application/vnd.jupyter.widget-view+json": {
              "version_major": 2,
              "version_minor": 0,
              "model_id": "3aff2df96c604aff9c53e3f21888b839"
            }
          },
          "metadata": {}
        },
        {
          "output_type": "execute_result",
          "data": {
            "text/plain": [
              "DatasetDict({\n",
              "    train: Dataset({\n",
              "        features: ['image', 'labels'],\n",
              "        num_rows: 23410\n",
              "    })\n",
              "})"
            ]
          },
          "metadata": {},
          "execution_count": 3
        }
      ]
    },
    {
      "cell_type": "code",
      "source": [
        "# Split the train/val dataset\n",
        "TEST_SIZE = 0.2\n",
        "datasets = datasets ['train']. train_test_split (test_size = TEST_SIZE)"
      ],
      "metadata": {
        "id": "MdduTACCYhWM"
      },
      "execution_count": 4,
      "outputs": []
    },
    {
      "cell_type": "code",
      "source": [
        "# Build dataloader\n",
        "IMG_SIZE = 64\n",
        "img_transforms = transforms.Compose ([\n",
        "transforms.Resize (( IMG_SIZE , IMG_SIZE ) ) ,\n",
        "transforms.Grayscale ( num_output_channels =3) ,\n",
        "transforms.ToTensor () ,\n",
        "transforms.Normalize (\n",
        "[0.485 , 0.456 , 0.406] ,\n",
        "[0.229 , 0.224 , 0.225]\n",
        ")\n",
        "])"
      ],
      "metadata": {
        "id": "1VA-nQxAZKY4"
      },
      "execution_count": 5,
      "outputs": []
    },
    {
      "cell_type": "code",
      "source": [
        "# Build class CatDogDataset\n",
        "class CatDogDataset ( Dataset ) :\n",
        "  def __init__ (self , data , transform = None ) :\n",
        "    self.data = data\n",
        "    self.transform = transform\n",
        "\n",
        "  def __len__ ( self ) :\n",
        "    return len( self.data )\n",
        "\n",
        "  def __getitem__ (self , idx) :\n",
        "    images = self.data [ idx ]['image']\n",
        "    labels = self.data [ idx ]['labels']\n",
        "\n",
        "    if self.transform :\n",
        "      images = self.transform ( images )\n",
        "    labels = torch.tensor ( labels , dtype = torch.long )\n",
        "    return images , labels"
      ],
      "metadata": {
        "id": "FeFoGvVLZWVC"
      },
      "execution_count": 6,
      "outputs": []
    },
    {
      "cell_type": "code",
      "source": [
        "# Declare DataLoader\n",
        "TRAIN_BATCH_SIZE = 512\n",
        "VAL_BATCH_SIZE = 256\n",
        "\n",
        "train_dataset = CatDogDataset ( datasets ['train'] , transform = img_transforms )\n",
        "test_dataset = CatDogDataset ( datasets ['test'] , transform = img_transforms )\n",
        "\n",
        "train_loader = DataLoader ( train_dataset , batch_size = TRAIN_BATCH_SIZE ,\n",
        "shuffle = True )\n",
        "test_loader = DataLoader ( test_dataset , batch_size = VAL_BATCH_SIZE , shuffle =\n",
        "False )"
      ],
      "metadata": {
        "id": "qwtQ_fczZcKy"
      },
      "execution_count": 7,
      "outputs": []
    },
    {
      "cell_type": "code",
      "source": [
        "# Build Model\n",
        "class CatDogModel (nn. Module ) :\n",
        "  def __init__ (self , n_classes ) :\n",
        "    super ( CatDogModel , self ).__init__ ()\n",
        "\n",
        "    resnet_model = resnet18 ( weights ='IMAGENET1K_V1')\n",
        "    self.backbone = nn. Sequential (* list ( resnet_model.children () ) [: -1])\n",
        "    for param in self.backbone.parameters () :\n",
        "      param.requires_grad = False\n",
        "\n",
        "    in_features = resnet_model .fc. in_features\n",
        "    self .fc = nn. Linear ( in_features , n_classes )\n",
        "\n",
        "  def forward (self , x) :\n",
        "    x = self.backbone (x)\n",
        "    x = torch.flatten (x, 1)\n",
        "    x = self .fc(x)\n",
        "\n",
        "    return x"
      ],
      "metadata": {
        "id": "BzYvkyyBZmxk"
      },
      "execution_count": 8,
      "outputs": []
    },
    {
      "cell_type": "code",
      "source": [
        "device = 'cuda' if torch.cuda.is_available () else 'cpu'\n",
        "N_CLASSES = 2\n",
        "model = CatDogModel ( N_CLASSES ) .to( device )\n",
        "test_input = torch.rand (1 , 3 , 224 , 224) .to( device )\n",
        "with torch.no_grad () :\n",
        "  output = model ( test_input )\n",
        "  print ( output.shape ) # (1 , 2)"
      ],
      "metadata": {
        "colab": {
          "base_uri": "https://localhost:8080/"
        },
        "id": "wE8aYyWSaae7",
        "outputId": "5839e0d3-0bbe-4d8c-bff7-0cfe53e4ce23"
      },
      "execution_count": 9,
      "outputs": [
        {
          "output_type": "stream",
          "name": "stderr",
          "text": [
            "Downloading: \"https://download.pytorch.org/models/resnet18-f37072fd.pth\" to /root/.cache/torch/hub/checkpoints/resnet18-f37072fd.pth\n",
            "100%|██████████| 44.7M/44.7M [00:00<00:00, 153MB/s]\n"
          ]
        },
        {
          "output_type": "stream",
          "name": "stdout",
          "text": [
            "torch.Size([1, 2])\n"
          ]
        }
      ]
    },
    {
      "cell_type": "code",
      "source": [
        "# Training model\n",
        "EPOCHS = 20\n",
        "LR = 1e-3\n",
        "WEIGHT_DECAY = 1e-5\n",
        "\n",
        "optimizer = torch.optim.Adam ( model.parameters () , lr=LR , weight_decay = WEIGHT_DECAY )\n",
        "criterion = torch .nn. CrossEntropyLoss ()\n",
        "\n",
        "for epoch in range ( EPOCHS ) :\n",
        "  train_losses = []\n",
        "  model.train ()\n",
        "  for images , labels in train_loader :\n",
        "    images = images .to( device )\n",
        "    labels = labels .to( device )\n",
        "\n",
        "    outputs = model ( images )\n",
        "\n",
        "    optimizer.zero_grad ()\n",
        "    loss = criterion ( outputs , labels )\n",
        "    loss.backward ()\n",
        "    optimizer.step ()\n",
        "\n",
        "    train_losses.append ( loss.item () )\n",
        "\n",
        "  train_loss = sum( train_losses ) / len( train_losses )\n",
        "\n",
        "  val_losses = []\n",
        "  model.eval ()\n",
        "  with torch.no_grad () :\n",
        "    for images , labels in test_loader :\n",
        "      images = images .to( device )\n",
        "      labels = labels .to( device )\n",
        "\n",
        "      outputs = model ( images )\n",
        "      loss = criterion ( outputs , labels )\n",
        "\n",
        "      val_losses.append ( loss.item () )\n",
        "\n",
        "  val_loss = sum( val_losses ) / len( val_losses )\n",
        "\n",
        "  print (f'EPOCH { epoch + 1}:\\ tTrain loss : { train_loss:.3f}\\ tVal loss : {val_loss:.3f}')"
      ],
      "metadata": {
        "colab": {
          "base_uri": "https://localhost:8080/"
        },
        "id": "2TU0rGOiatsD",
        "outputId": "58a4c9d7-96c8-4814-a1f9-8527da18057a"
      },
      "execution_count": 10,
      "outputs": [
        {
          "output_type": "stream",
          "name": "stdout",
          "text": [
            "EPOCH 1:\\ tTrain loss : 0.640\\ tVal loss : 0.597\n",
            "EPOCH 2:\\ tTrain loss : 0.543\\ tVal loss : 0.544\n",
            "EPOCH 3:\\ tTrain loss : 0.523\\ tVal loss : 0.540\n",
            "EPOCH 4:\\ tTrain loss : 0.514\\ tVal loss : 0.534\n",
            "EPOCH 5:\\ tTrain loss : 0.509\\ tVal loss : 0.535\n",
            "EPOCH 6:\\ tTrain loss : 0.506\\ tVal loss : 0.532\n",
            "EPOCH 7:\\ tTrain loss : 0.504\\ tVal loss : 0.531\n",
            "EPOCH 8:\\ tTrain loss : 0.501\\ tVal loss : 0.534\n",
            "EPOCH 9:\\ tTrain loss : 0.503\\ tVal loss : 0.530\n",
            "EPOCH 10:\\ tTrain loss : 0.500\\ tVal loss : 0.530\n",
            "EPOCH 11:\\ tTrain loss : 0.500\\ tVal loss : 0.529\n",
            "EPOCH 12:\\ tTrain loss : 0.498\\ tVal loss : 0.537\n",
            "EPOCH 13:\\ tTrain loss : 0.499\\ tVal loss : 0.532\n",
            "EPOCH 14:\\ tTrain loss : 0.500\\ tVal loss : 0.529\n",
            "EPOCH 15:\\ tTrain loss : 0.498\\ tVal loss : 0.535\n",
            "EPOCH 16:\\ tTrain loss : 0.498\\ tVal loss : 0.532\n",
            "EPOCH 17:\\ tTrain loss : 0.498\\ tVal loss : 0.530\n",
            "EPOCH 18:\\ tTrain loss : 0.495\\ tVal loss : 0.529\n",
            "EPOCH 19:\\ tTrain loss : 0.497\\ tVal loss : 0.529\n",
            "EPOCH 20:\\ tTrain loss : 0.499\\ tVal loss : 0.536\n"
          ]
        }
      ]
    },
    {
      "cell_type": "code",
      "source": [
        "# Save model weight\n",
        "SAVE_PATH = 'catdog_weights.pt'\n",
        "torch.save ( model.state_dict () , SAVE_PATH )"
      ],
      "metadata": {
        "id": "QZQuGvvneGCW"
      },
      "execution_count": 11,
      "outputs": []
    }
  ]
}